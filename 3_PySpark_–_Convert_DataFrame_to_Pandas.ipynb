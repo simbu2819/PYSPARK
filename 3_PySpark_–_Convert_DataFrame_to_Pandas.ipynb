{
  "nbformat": 4,
  "nbformat_minor": 0,
  "metadata": {
    "colab": {
      "provenance": []
    },
    "kernelspec": {
      "name": "python3",
      "display_name": "Python 3"
    },
    "language_info": {
      "name": "python"
    }
  },
  "cells": [
    {
      "cell_type": "code",
      "source": [
        "pip install pyspark"
      ],
      "metadata": {
        "colab": {
          "base_uri": "https://localhost:8080/"
        },
        "id": "9LplF3thfZ_K",
        "outputId": "065aa6df-308c-4880-dd9e-be39f372a6ff"
      },
      "execution_count": null,
      "outputs": [
        {
          "output_type": "stream",
          "name": "stdout",
          "text": [
            "Looking in indexes: https://pypi.org/simple, https://us-python.pkg.dev/colab-wheels/public/simple/\n",
            "Collecting pyspark\n",
            "  Downloading pyspark-3.3.1.tar.gz (281.4 MB)\n",
            "\u001b[2K     \u001b[90m━━━━━━━━━━━━━━━━━━━━━━━━━━━━━━━━━━━━━━━\u001b[0m \u001b[32m281.4/281.4 MB\u001b[0m \u001b[31m4.1 MB/s\u001b[0m eta \u001b[36m0:00:00\u001b[0m\n",
            "\u001b[?25h  Preparing metadata (setup.py) ... \u001b[?25l\u001b[?25hdone\n",
            "Collecting py4j==0.10.9.5\n",
            "  Downloading py4j-0.10.9.5-py2.py3-none-any.whl (199 kB)\n",
            "\u001b[2K     \u001b[90m━━━━━━━━━━━━━━━━━━━━━━━━━━━━━━━━━━━━━━\u001b[0m \u001b[32m199.7/199.7 KB\u001b[0m \u001b[31m18.4 MB/s\u001b[0m eta \u001b[36m0:00:00\u001b[0m\n",
            "\u001b[?25hBuilding wheels for collected packages: pyspark\n",
            "  Building wheel for pyspark (setup.py) ... \u001b[?25l\u001b[?25hdone\n",
            "  Created wheel for pyspark: filename=pyspark-3.3.1-py2.py3-none-any.whl size=281845512 sha256=23901ba7b3de94125204d5e5c407af6d10bfbab64893b567e07807eadde500f0\n",
            "  Stored in directory: /root/.cache/pip/wheels/43/dc/11/ec201cd671da62fa9c5cc77078235e40722170ceba231d7598\n",
            "Successfully built pyspark\n",
            "Installing collected packages: py4j, pyspark\n",
            "Successfully installed py4j-0.10.9.5 pyspark-3.3.1\n"
          ]
        }
      ]
    },
    {
      "cell_type": "markdown",
      "source": [
        "### **Prepare PySpark DataFrame**"
      ],
      "metadata": {
        "id": "bJ-mE58ZfMOr"
      }
    },
    {
      "cell_type": "code",
      "source": [
        "from pyspark.sql import SparkSession"
      ],
      "metadata": {
        "id": "BgCYKqoefPZK"
      },
      "execution_count": null,
      "outputs": []
    },
    {
      "cell_type": "code",
      "source": [
        "spark=SparkSession.builder.appName('silambarasan').getOrCreate()"
      ],
      "metadata": {
        "id": "NcQqVSJ0fVmy"
      },
      "execution_count": null,
      "outputs": []
    },
    {
      "cell_type": "code",
      "source": [
        "data=[(\"James\",\"\",\"Smith\",\"36636\",\"M\",60000),\n",
        "        (\"Michael\",\"Rose\",\"\",\"40288\",\"M\",70000),\n",
        "        (\"Robert\",\"\",\"Williams\",\"42114\",\"\",400000),\n",
        "        (\"Maria\",\"Anne\",\"Jones\",\"39192\",\"F\",500000),\n",
        "        (\"Jen\",\"Mary\",\"Brown\",\"\",\"F\",0)]"
      ],
      "metadata": {
        "id": "MV86RSU-f2ps"
      },
      "execution_count": null,
      "outputs": []
    },
    {
      "cell_type": "code",
      "source": [
        "columns=[\"first_name\",\"middle_name\",\"last_name\",\"dob\",\"gender\",\"salary\"]"
      ],
      "metadata": {
        "id": "HRotLHKggBa-"
      },
      "execution_count": null,
      "outputs": []
    },
    {
      "cell_type": "code",
      "source": [
        "pysaprkDF=spark.createDataFrame(data=data,schema=columns)"
      ],
      "metadata": {
        "id": "MI_uq5vWgF8r"
      },
      "execution_count": null,
      "outputs": []
    },
    {
      "cell_type": "code",
      "source": [
        "pysaprkDF.show(truncate=False)"
      ],
      "metadata": {
        "colab": {
          "base_uri": "https://localhost:8080/"
        },
        "id": "shY0Hh5vgSOq",
        "outputId": "dd191033-deff-4b19-d30f-e4459e68afe3"
      },
      "execution_count": null,
      "outputs": [
        {
          "output_type": "stream",
          "name": "stdout",
          "text": [
            "+----------+-----------+---------+-----+------+------+\n",
            "|first_name|middle_name|last_name|dob  |gender|salary|\n",
            "+----------+-----------+---------+-----+------+------+\n",
            "|James     |           |Smith    |36636|M     |60000 |\n",
            "|Michael   |Rose       |         |40288|M     |70000 |\n",
            "|Robert    |           |Williams |42114|      |400000|\n",
            "|Maria     |Anne       |Jones    |39192|F     |500000|\n",
            "|Jen       |Mary       |Brown    |     |F     |0     |\n",
            "+----------+-----------+---------+-----+------+------+\n",
            "\n"
          ]
        }
      ]
    },
    {
      "cell_type": "markdown",
      "source": [
        "### **Convert PySpark Dataframe to Pandas DataFrame**"
      ],
      "metadata": {
        "id": "8Xv_euOlih81"
      }
    },
    {
      "cell_type": "code",
      "source": [
        "padasDF=pysaprkDF.toPandas()"
      ],
      "metadata": {
        "id": "qmkl9kM5ikNt"
      },
      "execution_count": null,
      "outputs": []
    },
    {
      "cell_type": "code",
      "source": [
        "print(padasDF)"
      ],
      "metadata": {
        "colab": {
          "base_uri": "https://localhost:8080/"
        },
        "id": "UeGxhEqlmClP",
        "outputId": "6d72560c-0086-4b32-ee91-3112f5dcb6b6"
      },
      "execution_count": null,
      "outputs": [
        {
          "output_type": "stream",
          "name": "stdout",
          "text": [
            "  first_name middle_name last_name    dob gender  salary\n",
            "0      James                 Smith  36636      M   60000\n",
            "1    Michael        Rose            40288      M   70000\n",
            "2     Robert              Williams  42114         400000\n",
            "3      Maria        Anne     Jones  39192      F  500000\n",
            "4        Jen        Mary     Brown             F       0\n"
          ]
        }
      ]
    },
    {
      "cell_type": "code",
      "source": [
        "pysaprkDF.show()"
      ],
      "metadata": {
        "colab": {
          "base_uri": "https://localhost:8080/"
        },
        "id": "qDX_l6gGmaHD",
        "outputId": "aa5ec9e9-4808-46b7-b55d-070a7f7d4e8b"
      },
      "execution_count": null,
      "outputs": [
        {
          "output_type": "stream",
          "name": "stdout",
          "text": [
            "+----------+-----------+---------+-----+------+------+\n",
            "|first_name|middle_name|last_name|  dob|gender|salary|\n",
            "+----------+-----------+---------+-----+------+------+\n",
            "|     James|           |    Smith|36636|     M| 60000|\n",
            "|   Michael|       Rose|         |40288|     M| 70000|\n",
            "|    Robert|           | Williams|42114|      |400000|\n",
            "|     Maria|       Anne|    Jones|39192|     F|500000|\n",
            "|       Jen|       Mary|    Brown|     |     F|     0|\n",
            "+----------+-----------+---------+-----+------+------+\n",
            "\n"
          ]
        }
      ]
    },
    {
      "cell_type": "markdown",
      "source": [
        "### **Convert Spark Nested Struct DataFrame to Pandas**"
      ],
      "metadata": {
        "id": "AIqb5iJym5Bh"
      }
    },
    {
      "cell_type": "code",
      "source": [
        "from pyspark.sql.types import StructType,StructField,StringType,IntegerType"
      ],
      "metadata": {
        "id": "HhSpawB8m8hg"
      },
      "execution_count": null,
      "outputs": []
    },
    {
      "cell_type": "code",
      "source": [
        "dataStruct = [((\"James\",\"\",\"Smith\"),\"36636\",\"M\",\"3000\"),\n",
        "      ((\"Michael\",\"Rose\",\"\"),\"40288\",\"M\",\"4000\"),\n",
        "      ((\"Robert\",\"\",\"Williams\"),\"42114\",\"M\",\"4000\"),\n",
        "      ((\"Maria\",\"Anne\",\"Jones\"),\"39192\",\"F\",\"4000\"),\n",
        "      ((\"Jen\",\"Mary\",\"Brown\"),\"\",\"F\",\"-1\")\n",
        "]"
      ],
      "metadata": {
        "id": "riYn9xJKnMsY"
      },
      "execution_count": null,
      "outputs": []
    },
    {
      "cell_type": "code",
      "source": [
        "schemaStruct = StructType([\n",
        "        StructField('name', StructType([\n",
        "             StructField('firstname', StringType(), True),\n",
        "             StructField('middlename', StringType(), True),\n",
        "             StructField('lastname', StringType(), True)\n",
        "             ])),\n",
        "          StructField('dob', StringType(), True),\n",
        "         StructField('gender', StringType(), True),\n",
        "         StructField('salary', StringType(), True)\n",
        "         ])"
      ],
      "metadata": {
        "id": "emAh0VVunTL1"
      },
      "execution_count": null,
      "outputs": []
    },
    {
      "cell_type": "code",
      "source": [
        "df = spark.createDataFrame(data=dataStruct, schema = schemaStruct)"
      ],
      "metadata": {
        "id": "8jpNM0Ovpltz"
      },
      "execution_count": null,
      "outputs": []
    },
    {
      "cell_type": "code",
      "source": [
        "df.show(truncate=False)"
      ],
      "metadata": {
        "id": "dzop3zHjpos8",
        "outputId": "ee4c74b1-b802-472a-97ae-85924d40b3be",
        "colab": {
          "base_uri": "https://localhost:8080/"
        }
      },
      "execution_count": null,
      "outputs": [
        {
          "output_type": "stream",
          "name": "stdout",
          "text": [
            "+--------------------+-----+------+------+\n",
            "|name                |dob  |gender|salary|\n",
            "+--------------------+-----+------+------+\n",
            "|{James, , Smith}    |36636|M     |3000  |\n",
            "|{Michael, Rose, }   |40288|M     |4000  |\n",
            "|{Robert, , Williams}|42114|M     |4000  |\n",
            "|{Maria, Anne, Jones}|39192|F     |4000  |\n",
            "|{Jen, Mary, Brown}  |     |F     |-1    |\n",
            "+--------------------+-----+------+------+\n",
            "\n"
          ]
        }
      ]
    },
    {
      "cell_type": "code",
      "source": [],
      "metadata": {
        "id": "nZAXiV9Dps2h"
      },
      "execution_count": null,
      "outputs": []
    }
  ]
}