{
  "nbformat": 4,
  "nbformat_minor": 0,
  "metadata": {
    "colab": {
      "provenance": []
    },
    "kernelspec": {
      "name": "python3",
      "display_name": "Python 3"
    },
    "language_info": {
      "name": "python"
    }
  },
  "cells": [
    {
      "cell_type": "code",
      "source": [
        "pip install pyspark"
      ],
      "metadata": {
        "colab": {
          "base_uri": "https://localhost:8080/"
        },
        "id": "LKNmIHAlqQWS",
        "outputId": "15df8c7d-68ba-4b22-809e-8b6772682cc9"
      },
      "execution_count": null,
      "outputs": [
        {
          "output_type": "stream",
          "name": "stdout",
          "text": [
            "Looking in indexes: https://pypi.org/simple, https://us-python.pkg.dev/colab-wheels/public/simple/\n",
            "Collecting pyspark\n",
            "  Downloading pyspark-3.3.1.tar.gz (281.4 MB)\n",
            "\u001b[2K     \u001b[90m━━━━━━━━━━━━━━━━━━━━━━━━━━━━━━━━━━━━━━━\u001b[0m \u001b[32m281.4/281.4 MB\u001b[0m \u001b[31m4.1 MB/s\u001b[0m eta \u001b[36m0:00:00\u001b[0m\n",
            "\u001b[?25h  Preparing metadata (setup.py) ... \u001b[?25l\u001b[?25hdone\n",
            "Collecting py4j==0.10.9.5\n",
            "  Downloading py4j-0.10.9.5-py2.py3-none-any.whl (199 kB)\n",
            "\u001b[2K     \u001b[90m━━━━━━━━━━━━━━━━━━━━━━━━━━━━━━━━━━━━━━\u001b[0m \u001b[32m199.7/199.7 KB\u001b[0m \u001b[31m20.4 MB/s\u001b[0m eta \u001b[36m0:00:00\u001b[0m\n",
            "\u001b[?25hBuilding wheels for collected packages: pyspark\n",
            "  Building wheel for pyspark (setup.py) ... \u001b[?25l\u001b[?25hdone\n",
            "  Created wheel for pyspark: filename=pyspark-3.3.1-py2.py3-none-any.whl size=281845512 sha256=2df9e21f0989a2d3c6c1bf7e67c2fe1efe2596f9e3555398dca619061a4c9a70\n",
            "  Stored in directory: /root/.cache/pip/wheels/43/dc/11/ec201cd671da62fa9c5cc77078235e40722170ceba231d7598\n",
            "Successfully built pyspark\n",
            "Installing collected packages: py4j, pyspark\n",
            "Successfully installed py4j-0.10.9.5 pyspark-3.3.1\n"
          ]
        }
      ]
    },
    {
      "cell_type": "markdown",
      "source": [
        "### **1. Quick Example of show()**"
      ],
      "metadata": {
        "id": "psjxffZAqsLv"
      }
    },
    {
      "cell_type": "code",
      "source": [
        "from pyspark.sql import SparkSession"
      ],
      "metadata": {
        "id": "B4KconV9qv0O"
      },
      "execution_count": null,
      "outputs": []
    },
    {
      "cell_type": "code",
      "source": [
        "spark=SparkSession.builder.appName('silambarasan').getOrCreate()"
      ],
      "metadata": {
        "id": "hSTl8PcAq4od"
      },
      "execution_count": null,
      "outputs": []
    },
    {
      "cell_type": "code",
      "source": [
        "spark"
      ],
      "metadata": {
        "colab": {
          "base_uri": "https://localhost:8080/",
          "height": 219
        },
        "id": "_9i1it52q-k-",
        "outputId": "335a21eb-1d2d-436c-f83f-cdaef721cf87"
      },
      "execution_count": null,
      "outputs": [
        {
          "output_type": "execute_result",
          "data": {
            "text/plain": [
              "<pyspark.sql.session.SparkSession at 0x7f7ec0423790>"
            ],
            "text/html": [
              "\n",
              "            <div>\n",
              "                <p><b>SparkSession - in-memory</b></p>\n",
              "                \n",
              "        <div>\n",
              "            <p><b>SparkContext</b></p>\n",
              "\n",
              "            <p><a href=\"http://023cc6e9d86a:4040\">Spark UI</a></p>\n",
              "\n",
              "            <dl>\n",
              "              <dt>Version</dt>\n",
              "                <dd><code>v3.3.1</code></dd>\n",
              "              <dt>Master</dt>\n",
              "                <dd><code>local[*]</code></dd>\n",
              "              <dt>AppName</dt>\n",
              "                <dd><code>silambarasan</code></dd>\n",
              "            </dl>\n",
              "        </div>\n",
              "        \n",
              "            </div>\n",
              "        "
            ]
          },
          "metadata": {},
          "execution_count": 7
        }
      ]
    },
    {
      "cell_type": "code",
      "source": [
        "data=[(\"James\",\"\",\"Smith\",\"36636\",\"M\",60000),\n",
        "        (\"Michael\",\"Rose\",\"\",\"40288\",\"M\",70000),\n",
        "        (\"Robert\",\"\",\"Williams\",\"42114\",\"\",400000),\n",
        "        (\"Maria\",\"Anne\",\"Jones\",\"39192\",\"F\",500000),\n",
        "        (\"Jen\",\"Mary\",\"Brown\",\"\",\"F\",0)]"
      ],
      "metadata": {
        "id": "ZZnVOJvprBki"
      },
      "execution_count": null,
      "outputs": []
    },
    {
      "cell_type": "code",
      "source": [
        "columns=[\"first_name\",\"middle_name\",\"last_name\",\"dob\",\"gender\",\"salary\"]"
      ],
      "metadata": {
        "id": "RXlbrjaArJb1"
      },
      "execution_count": null,
      "outputs": []
    },
    {
      "cell_type": "code",
      "source": [
        "pysparkDF=spark.createDataFrame(data=data,schema=columns)"
      ],
      "metadata": {
        "id": "Zzhh_KQgrNct"
      },
      "execution_count": null,
      "outputs": []
    },
    {
      "cell_type": "code",
      "source": [
        "# Default - displays 20 rows and\n",
        "# 20 charactes from column value\n",
        "pysparkDF.show()"
      ],
      "metadata": {
        "colab": {
          "base_uri": "https://localhost:8080/"
        },
        "id": "Mc55qmvZrTbm",
        "outputId": "b156ca8b-b414-47ed-bca2-6ee1254f7a45"
      },
      "execution_count": null,
      "outputs": [
        {
          "output_type": "stream",
          "name": "stdout",
          "text": [
            "+----------+-----------+---------+-----+------+------+\n",
            "|first_name|middle_name|last_name|  dob|gender|salary|\n",
            "+----------+-----------+---------+-----+------+------+\n",
            "|     James|           |    Smith|36636|     M| 60000|\n",
            "|   Michael|       Rose|         |40288|     M| 70000|\n",
            "|    Robert|           | Williams|42114|      |400000|\n",
            "|     Maria|       Anne|    Jones|39192|     F|500000|\n",
            "|       Jen|       Mary|    Brown|     |     F|     0|\n",
            "+----------+-----------+---------+-----+------+------+\n",
            "\n"
          ]
        }
      ]
    },
    {
      "cell_type": "code",
      "source": [
        "#Display full column contents\n",
        "pysparkDF.show(truncate=False)"
      ],
      "metadata": {
        "colab": {
          "base_uri": "https://localhost:8080/"
        },
        "id": "pDth_goHrX6q",
        "outputId": "f2054fd1-d4e2-4860-e47d-a4eb1041f788"
      },
      "execution_count": null,
      "outputs": [
        {
          "output_type": "stream",
          "name": "stdout",
          "text": [
            "+----------+-----------+---------+-----+------+------+\n",
            "|first_name|middle_name|last_name|dob  |gender|salary|\n",
            "+----------+-----------+---------+-----+------+------+\n",
            "|James     |           |Smith    |36636|M     |60000 |\n",
            "|Michael   |Rose       |         |40288|M     |70000 |\n",
            "|Robert    |           |Williams |42114|      |400000|\n",
            "|Maria     |Anne       |Jones    |39192|F     |500000|\n",
            "|Jen       |Mary       |Brown    |     |F     |0     |\n",
            "+----------+-----------+---------+-----+------+------+\n",
            "\n"
          ]
        }
      ]
    },
    {
      "cell_type": "code",
      "source": [
        "# Display 2 rows and full column contents\n",
        "pysparkDF.show(2,truncate=False)"
      ],
      "metadata": {
        "colab": {
          "base_uri": "https://localhost:8080/"
        },
        "id": "ER76Ah-jrf8z",
        "outputId": "3e9175de-cde8-4606-8a21-bdc45483e2a8"
      },
      "execution_count": null,
      "outputs": [
        {
          "output_type": "stream",
          "name": "stdout",
          "text": [
            "+----------+-----------+---------+-----+------+------+\n",
            "|first_name|middle_name|last_name|dob  |gender|salary|\n",
            "+----------+-----------+---------+-----+------+------+\n",
            "|James     |           |Smith    |36636|M     |60000 |\n",
            "|Michael   |Rose       |         |40288|M     |70000 |\n",
            "+----------+-----------+---------+-----+------+------+\n",
            "only showing top 2 rows\n",
            "\n"
          ]
        }
      ]
    },
    {
      "cell_type": "code",
      "source": [
        "\n",
        "# Display 2 rows & column values 25 characters\n",
        "pysparkDF.show(2,truncate=25)"
      ],
      "metadata": {
        "colab": {
          "base_uri": "https://localhost:8080/"
        },
        "id": "Uws6a4lKrzhM",
        "outputId": "7017f2e5-474d-4c1d-9590-f14f7d0f51d6"
      },
      "execution_count": null,
      "outputs": [
        {
          "output_type": "stream",
          "name": "stdout",
          "text": [
            "+----------+-----------+---------+-----+------+------+\n",
            "|first_name|middle_name|last_name|  dob|gender|salary|\n",
            "+----------+-----------+---------+-----+------+------+\n",
            "|     James|           |    Smith|36636|     M| 60000|\n",
            "|   Michael|       Rose|         |40288|     M| 70000|\n",
            "+----------+-----------+---------+-----+------+------+\n",
            "only showing top 2 rows\n",
            "\n"
          ]
        }
      ]
    },
    {
      "cell_type": "code",
      "source": [
        "# Display DataFrame rows & columns vertically\n",
        "pysparkDF.show(n=3,truncate=25,vertical=True)"
      ],
      "metadata": {
        "colab": {
          "base_uri": "https://localhost:8080/"
        },
        "id": "YBpy3e9gr7AU",
        "outputId": "8abbaede-15b6-4dff-ed20-4a7a0296647d"
      },
      "execution_count": null,
      "outputs": [
        {
          "output_type": "stream",
          "name": "stdout",
          "text": [
            "-RECORD 0---------------\n",
            " first_name  | James    \n",
            " middle_name |          \n",
            " last_name   | Smith    \n",
            " dob         | 36636    \n",
            " gender      | M        \n",
            " salary      | 60000    \n",
            "-RECORD 1---------------\n",
            " first_name  | Michael  \n",
            " middle_name | Rose     \n",
            " last_name   |          \n",
            " dob         | 40288    \n",
            " gender      | M        \n",
            " salary      | 70000    \n",
            "-RECORD 2---------------\n",
            " first_name  | Robert   \n",
            " middle_name |          \n",
            " last_name   | Williams \n",
            " dob         | 42114    \n",
            " gender      |          \n",
            " salary      | 400000   \n",
            "only showing top 3 rows\n",
            "\n"
          ]
        }
      ]
    },
    {
      "cell_type": "markdown",
      "source": [
        "### **2. show() Syntax**"
      ],
      "metadata": {
        "id": "yMfoT5gisSxk"
      }
    },
    {
      "cell_type": "code",
      "source": [
        "# Syntax\n",
        "def show(self, n=20, truncate=True, vertical=False):"
      ],
      "metadata": {
        "id": "35pKhooysVxj"
      },
      "execution_count": null,
      "outputs": []
    },
    {
      "cell_type": "markdown",
      "source": [
        "### **3. PySpark show() To Display Contents**"
      ],
      "metadata": {
        "id": "d966ekOOscuE"
      }
    },
    {
      "cell_type": "code",
      "source": [
        "from pyspark.sql import SparkSession"
      ],
      "metadata": {
        "id": "ebWM5kjcsgbd"
      },
      "execution_count": null,
      "outputs": []
    },
    {
      "cell_type": "code",
      "source": [
        "spark=SparkSession.builder.appName('silambarasan').getOrCreate()"
      ],
      "metadata": {
        "id": "EyNKfwOYu1uO"
      },
      "execution_count": null,
      "outputs": []
    },
    {
      "cell_type": "code",
      "source": [
        "columns=['Seqno',\"Quote\"]"
      ],
      "metadata": {
        "id": "Ig2hJylIvACr"
      },
      "execution_count": null,
      "outputs": []
    },
    {
      "cell_type": "code",
      "source": [
        "data = [(\"1\", \"Be the change that you wish to see in the world\"),\n",
        "    (\"2\", \"Everyone thinks of changing the world, but no one thinks of changing himself.\"),\n",
        "    (\"3\", \"The purpose of our lives is to be happy.\"),\n",
        "    (\"4\", \"Be cool.\")]"
      ],
      "metadata": {
        "id": "7GvSuerCvLGp"
      },
      "execution_count": null,
      "outputs": []
    },
    {
      "cell_type": "code",
      "source": [
        "df=spark.createDataFrame(data=data,schema=columns)"
      ],
      "metadata": {
        "id": "O09FVjdavSry"
      },
      "execution_count": null,
      "outputs": []
    },
    {
      "cell_type": "code",
      "source": [
        "df.show()"
      ],
      "metadata": {
        "colab": {
          "base_uri": "https://localhost:8080/"
        },
        "id": "c2TWn6lhvctd",
        "outputId": "c3ebf2f3-8a80-4f9b-8536-8f74a5539cd1"
      },
      "execution_count": null,
      "outputs": [
        {
          "output_type": "stream",
          "name": "stdout",
          "text": [
            "+-----+--------------------+\n",
            "|Seqno|               Quote|\n",
            "+-----+--------------------+\n",
            "|    1|Be the change tha...|\n",
            "|    2|Everyone thinks o...|\n",
            "|    3|The purpose of ou...|\n",
            "|    4|            Be cool.|\n",
            "+-----+--------------------+\n",
            "\n"
          ]
        }
      ]
    },
    {
      "cell_type": "code",
      "source": [
        "#Display full column contents\n",
        "df.show(truncate=False)"
      ],
      "metadata": {
        "colab": {
          "base_uri": "https://localhost:8080/"
        },
        "id": "97FM-8e8vfwc",
        "outputId": "ca4269ff-8ada-46ac-f0b9-b905766bd716"
      },
      "execution_count": null,
      "outputs": [
        {
          "output_type": "stream",
          "name": "stdout",
          "text": [
            "+-----+-----------------------------------------------------------------------------+\n",
            "|Seqno|Quote                                                                        |\n",
            "+-----+-----------------------------------------------------------------------------+\n",
            "|1    |Be the change that you wish to see in the world                              |\n",
            "|2    |Everyone thinks of changing the world, but no one thinks of changing himself.|\n",
            "|3    |The purpose of our lives is to be happy.                                     |\n",
            "|4    |Be cool.                                                                     |\n",
            "+-----+-----------------------------------------------------------------------------+\n",
            "\n"
          ]
        }
      ]
    },
    {
      "cell_type": "code",
      "source": [
        "# Display 2 rows and full column contents\n",
        "df.show(2,truncate=False)"
      ],
      "metadata": {
        "colab": {
          "base_uri": "https://localhost:8080/"
        },
        "id": "wdLDgAnavl_U",
        "outputId": "ef845b57-4713-4489-f583-c0e165bc3691"
      },
      "execution_count": null,
      "outputs": [
        {
          "output_type": "stream",
          "name": "stdout",
          "text": [
            "+-----+-----------------------------------------------------------------------------+\n",
            "|Seqno|Quote                                                                        |\n",
            "+-----+-----------------------------------------------------------------------------+\n",
            "|1    |Be the change that you wish to see in the world                              |\n",
            "|2    |Everyone thinks of changing the world, but no one thinks of changing himself.|\n",
            "+-----+-----------------------------------------------------------------------------+\n",
            "only showing top 2 rows\n",
            "\n"
          ]
        }
      ]
    },
    {
      "cell_type": "markdown",
      "source": [
        "### **4. Show() with Truncate Column Values**"
      ],
      "metadata": {
        "id": "-8Zsw9i-v0I4"
      }
    },
    {
      "cell_type": "code",
      "source": [
        "# Display 2 rows & column values 25 characters\n",
        "df.show(2,truncate=30)"
      ],
      "metadata": {
        "colab": {
          "base_uri": "https://localhost:8080/"
        },
        "id": "LqyhwpMEv3AA",
        "outputId": "c85228a5-17dd-4a3c-e9b8-eb115ff960b3"
      },
      "execution_count": null,
      "outputs": [
        {
          "output_type": "stream",
          "name": "stdout",
          "text": [
            "+-----+------------------------------+\n",
            "|Seqno|                         Quote|\n",
            "+-----+------------------------------+\n",
            "|    1|Be the change that you wish...|\n",
            "|    2|Everyone thinks of changing...|\n",
            "+-----+------------------------------+\n",
            "only showing top 2 rows\n",
            "\n"
          ]
        }
      ]
    },
    {
      "cell_type": "markdown",
      "source": [
        "### **5. Display Contents Vertically**"
      ],
      "metadata": {
        "id": "gYruyzYRwCIL"
      }
    },
    {
      "cell_type": "code",
      "source": [
        "# Display DataFrame rows & columns vertically\n",
        "df.show(n=3,truncate=25,vertical=True)"
      ],
      "metadata": {
        "colab": {
          "base_uri": "https://localhost:8080/"
        },
        "id": "AkuPUGAIv5P1",
        "outputId": "8da19ba3-3f39-470c-8a80-0275c9cba67a"
      },
      "execution_count": null,
      "outputs": [
        {
          "output_type": "stream",
          "name": "stdout",
          "text": [
            "-RECORD 0--------------------------\n",
            " Seqno | 1                         \n",
            " Quote | Be the change that you... \n",
            "-RECORD 1--------------------------\n",
            " Seqno | 2                         \n",
            " Quote | Everyone thinks of cha... \n",
            "-RECORD 2--------------------------\n",
            " Seqno | 3                         \n",
            " Quote | The purpose of our liv... \n",
            "only showing top 3 rows\n",
            "\n"
          ]
        }
      ]
    },
    {
      "cell_type": "code",
      "source": [],
      "metadata": {
        "id": "weXQ74cDwFdM"
      },
      "execution_count": null,
      "outputs": []
    }
  ]
}