{
  "nbformat": 4,
  "nbformat_minor": 0,
  "metadata": {
    "colab": {
      "provenance": []
    },
    "kernelspec": {
      "name": "python3",
      "display_name": "Python 3"
    },
    "language_info": {
      "name": "python"
    }
  },
  "cells": [
    {
      "cell_type": "code",
      "execution_count": null,
      "metadata": {
        "colab": {
          "base_uri": "https://localhost:8080/"
        },
        "id": "0vGhqDrV7WkV",
        "outputId": "dfcd6b6a-a9ad-431b-ba48-f03b664e60bb"
      },
      "outputs": [
        {
          "output_type": "stream",
          "name": "stdout",
          "text": [
            "Looking in indexes: https://pypi.org/simple, https://us-python.pkg.dev/colab-wheels/public/simple/\n",
            "Collecting pyspark\n",
            "  Downloading pyspark-3.3.1.tar.gz (281.4 MB)\n",
            "\u001b[2K     \u001b[90m━━━━━━━━━━━━━━━━━━━━━━━━━━━━━━━━━━━━━━━\u001b[0m \u001b[32m281.4/281.4 MB\u001b[0m \u001b[31m3.2 MB/s\u001b[0m eta \u001b[36m0:00:00\u001b[0m\n",
            "\u001b[?25h  Preparing metadata (setup.py) ... \u001b[?25l\u001b[?25hdone\n",
            "Collecting py4j==0.10.9.5\n",
            "  Downloading py4j-0.10.9.5-py2.py3-none-any.whl (199 kB)\n",
            "\u001b[2K     \u001b[90m━━━━━━━━━━━━━━━━━━━━━━━━━━━━━━━━━━━━━━━\u001b[0m \u001b[32m199.7/199.7 KB\u001b[0m \u001b[31m7.6 MB/s\u001b[0m eta \u001b[36m0:00:00\u001b[0m\n",
            "\u001b[?25hBuilding wheels for collected packages: pyspark\n",
            "  Building wheel for pyspark (setup.py) ... \u001b[?25l\u001b[?25hdone\n",
            "  Created wheel for pyspark: filename=pyspark-3.3.1-py2.py3-none-any.whl size=281845512 sha256=1f813ea7420bc073ab8198aa378e6b937144a843d11f4dab80440ac6d7b0fc3e\n",
            "  Stored in directory: /root/.cache/pip/wheels/43/dc/11/ec201cd671da62fa9c5cc77078235e40722170ceba231d7598\n",
            "Successfully built pyspark\n",
            "Installing collected packages: py4j, pyspark\n",
            "Successfully installed py4j-0.10.9.5 pyspark-3.3.1\n"
          ]
        }
      ],
      "source": [
        "pip install pyspark"
      ]
    },
    {
      "cell_type": "markdown",
      "source": [
        "### **1. Create Column Class Object**"
      ],
      "metadata": {
        "id": "kMB-Mmd_OsO6"
      }
    },
    {
      "cell_type": "code",
      "source": [
        "from pyspark.sql import SparkSession"
      ],
      "metadata": {
        "id": "p8I3yvWRPQuV"
      },
      "execution_count": null,
      "outputs": []
    },
    {
      "cell_type": "code",
      "source": [
        "spark=SparkSession.builder.appName('silambarasan').getOrCreate()"
      ],
      "metadata": {
        "id": "-vTi0WZRPSKm"
      },
      "execution_count": null,
      "outputs": []
    },
    {
      "cell_type": "code",
      "source": [
        "columns=['Seqno',\"Quote\"]"
      ],
      "metadata": {
        "id": "cvL-cS3PPSQt"
      },
      "execution_count": null,
      "outputs": []
    },
    {
      "cell_type": "code",
      "source": [
        "data = [(\"1\", \"Be the change that you wish to see in the world\"),\n",
        "    (\"2\", \"Everyone thinks of changing the world, but no one thinks of changing himself.\"),\n",
        "    (\"3\", \"The purpose of our lives is to be happy.\"),\n",
        "    (\"4\", \"Be cool.\")]"
      ],
      "metadata": {
        "id": "w4WVeBs7PScO"
      },
      "execution_count": null,
      "outputs": []
    },
    {
      "cell_type": "code",
      "source": [
        "df=spark.createDataFrame(data=data,schema=columns)"
      ],
      "metadata": {
        "id": "O3hhEYrwPa-m"
      },
      "execution_count": null,
      "outputs": []
    },
    {
      "cell_type": "code",
      "source": [],
      "metadata": {
        "id": "EZIRi7VrPbBt"
      },
      "execution_count": null,
      "outputs": []
    },
    {
      "cell_type": "code",
      "source": [
        "from pyspark.sql.functions import lit"
      ],
      "metadata": {
        "id": "tN_Knj3h7df6"
      },
      "execution_count": null,
      "outputs": []
    },
    {
      "cell_type": "code",
      "source": [
        "colObj=lit('silambarasan')"
      ],
      "metadata": {
        "id": "qOD3lMQgO0fG"
      },
      "execution_count": null,
      "outputs": []
    },
    {
      "cell_type": "code",
      "source": [
        "data=[(\"James\",23),(\"Ann\",40)]\n",
        "df=spark.createDataFrame(data).toDF(\"name.fname\",\"gender\")\n",
        "df.printSchema()"
      ],
      "metadata": {
        "colab": {
          "base_uri": "https://localhost:8080/"
        },
        "id": "kqEVtzleO8qF",
        "outputId": "41322d30-20d1-4258-ed6c-716ca9b258f6"
      },
      "execution_count": null,
      "outputs": [
        {
          "output_type": "stream",
          "name": "stdout",
          "text": [
            "root\n",
            " |-- name.fname: string (nullable = true)\n",
            " |-- gender: long (nullable = true)\n",
            "\n"
          ]
        }
      ]
    },
    {
      "cell_type": "code",
      "source": [
        "# Using DataFrame object (df)\n",
        "df.select(df.gender).show()"
      ],
      "metadata": {
        "colab": {
          "base_uri": "https://localhost:8080/"
        },
        "id": "PB7aSmvGPsmq",
        "outputId": "9bd70e7d-76d9-4125-fe37-d397b1f02632"
      },
      "execution_count": null,
      "outputs": [
        {
          "output_type": "stream",
          "name": "stdout",
          "text": [
            "+------+\n",
            "|gender|\n",
            "+------+\n",
            "|    23|\n",
            "|    40|\n",
            "+------+\n",
            "\n"
          ]
        }
      ]
    },
    {
      "cell_type": "code",
      "source": [
        "df.select(df[\"gender\"]).show()"
      ],
      "metadata": {
        "colab": {
          "base_uri": "https://localhost:8080/"
        },
        "id": "SlNle1mhPyJ0",
        "outputId": "c45d6714-aa17-4a32-878d-a497a58ebdfd"
      },
      "execution_count": null,
      "outputs": [
        {
          "output_type": "stream",
          "name": "stdout",
          "text": [
            "+------+\n",
            "|gender|\n",
            "+------+\n",
            "|    23|\n",
            "|    40|\n",
            "+------+\n",
            "\n"
          ]
        }
      ]
    },
    {
      "cell_type": "code",
      "source": [
        "#Accessing column name with dot (with backticks)\n",
        "df.select(df[\"`name.fname`\"]).show()"
      ],
      "metadata": {
        "colab": {
          "base_uri": "https://localhost:8080/"
        },
        "id": "rzZqfPwsRaxO",
        "outputId": "e6eabc17-b4c1-44d0-8067-855b28043f47"
      },
      "execution_count": null,
      "outputs": [
        {
          "output_type": "stream",
          "name": "stdout",
          "text": [
            "+----------+\n",
            "|name.fname|\n",
            "+----------+\n",
            "|     James|\n",
            "|       Ann|\n",
            "+----------+\n",
            "\n"
          ]
        }
      ]
    },
    {
      "cell_type": "code",
      "source": [
        "#Using SQL col() function\n",
        "from pyspark.sql.functions import col\n",
        "df.select(col(\"gender\")).show()"
      ],
      "metadata": {
        "colab": {
          "base_uri": "https://localhost:8080/"
        },
        "id": "cD0P_GfORf4x",
        "outputId": "a2e54f26-f226-4dee-b198-f7304657a491"
      },
      "execution_count": null,
      "outputs": [
        {
          "output_type": "stream",
          "name": "stdout",
          "text": [
            "+------+\n",
            "|gender|\n",
            "+------+\n",
            "|    23|\n",
            "|    40|\n",
            "+------+\n",
            "\n"
          ]
        }
      ]
    },
    {
      "cell_type": "code",
      "source": [
        "#Accessing column name with dot (with backticks)\n",
        "df.select(col(\"`name.fname`\")).show()"
      ],
      "metadata": {
        "colab": {
          "base_uri": "https://localhost:8080/"
        },
        "id": "M-53jwI4Rlsp",
        "outputId": "7f962f01-ae0c-4158-ee8d-8a173ae260bd"
      },
      "execution_count": null,
      "outputs": [
        {
          "output_type": "stream",
          "name": "stdout",
          "text": [
            "+----------+\n",
            "|name.fname|\n",
            "+----------+\n",
            "|     James|\n",
            "|       Ann|\n",
            "+----------+\n",
            "\n"
          ]
        }
      ]
    },
    {
      "cell_type": "code",
      "source": [
        "#Create DataFrame with struct using Row class\n",
        "from pyspark.sql import Row"
      ],
      "metadata": {
        "id": "AEPxI98rRoqG"
      },
      "execution_count": null,
      "outputs": []
    },
    {
      "cell_type": "code",
      "source": [
        "data=[Row(name=\"James\",prop=Row(hair=\"black\",eye=\"blue\")),\n",
        "      Row(name=\"Ann\",prop=Row(hair=\"grey\",eye=\"black\"))]\n",
        "df=spark.createDataFrame(data)\n",
        "df.printSchema()"
      ],
      "metadata": {
        "colab": {
          "base_uri": "https://localhost:8080/"
        },
        "id": "miIz-wNbSvh1",
        "outputId": "243ef6a6-701c-4a47-8597-865215692e1d"
      },
      "execution_count": null,
      "outputs": [
        {
          "output_type": "stream",
          "name": "stdout",
          "text": [
            "root\n",
            " |-- name: string (nullable = true)\n",
            " |-- prop: struct (nullable = true)\n",
            " |    |-- hair: string (nullable = true)\n",
            " |    |-- eye: string (nullable = true)\n",
            "\n"
          ]
        }
      ]
    },
    {
      "cell_type": "code",
      "source": [
        "df.show()"
      ],
      "metadata": {
        "colab": {
          "base_uri": "https://localhost:8080/"
        },
        "id": "f5SHfpK7S5My",
        "outputId": "ff4a120c-60ff-4d43-a090-bc99509820b9"
      },
      "execution_count": null,
      "outputs": [
        {
          "output_type": "stream",
          "name": "stdout",
          "text": [
            "+-----+-------------+\n",
            "| name|         prop|\n",
            "+-----+-------------+\n",
            "|James|{black, blue}|\n",
            "|  Ann|{grey, black}|\n",
            "+-----+-------------+\n",
            "\n"
          ]
        }
      ]
    },
    {
      "cell_type": "code",
      "source": [
        "#Access struct column\n",
        "df.select(df.prop.hair).show()"
      ],
      "metadata": {
        "colab": {
          "base_uri": "https://localhost:8080/"
        },
        "id": "ov_DdLI5TBLQ",
        "outputId": "05fa4651-c4be-4148-a57e-093a05e69956"
      },
      "execution_count": null,
      "outputs": [
        {
          "output_type": "stream",
          "name": "stdout",
          "text": [
            "+---------+\n",
            "|prop.hair|\n",
            "+---------+\n",
            "|    black|\n",
            "|     grey|\n",
            "+---------+\n",
            "\n"
          ]
        }
      ]
    },
    {
      "cell_type": "code",
      "source": [
        "df.select(df[\"prop.hair\"]).show()"
      ],
      "metadata": {
        "colab": {
          "base_uri": "https://localhost:8080/"
        },
        "id": "1FE3KqXDTW86",
        "outputId": "027e8dc0-7e8f-48e5-93f9-b38867f44f12"
      },
      "execution_count": null,
      "outputs": [
        {
          "output_type": "stream",
          "name": "stdout",
          "text": [
            "+-----+\n",
            "| hair|\n",
            "+-----+\n",
            "|black|\n",
            "| grey|\n",
            "+-----+\n",
            "\n"
          ]
        }
      ]
    },
    {
      "cell_type": "code",
      "source": [
        "df.select(col(\"prop.hair\")).show()"
      ],
      "metadata": {
        "colab": {
          "base_uri": "https://localhost:8080/"
        },
        "id": "oOhenN8aTgcc",
        "outputId": "b7ba2944-708a-425f-99f2-e53a2ecc4eae"
      },
      "execution_count": null,
      "outputs": [
        {
          "output_type": "stream",
          "name": "stdout",
          "text": [
            "+-----+\n",
            "| hair|\n",
            "+-----+\n",
            "|black|\n",
            "| grey|\n",
            "+-----+\n",
            "\n"
          ]
        }
      ]
    },
    {
      "cell_type": "code",
      "source": [
        "#Access all columns from struct\n",
        "df.select(col(\"prop.*\")).show()"
      ],
      "metadata": {
        "colab": {
          "base_uri": "https://localhost:8080/"
        },
        "id": "g0vf0tSbTivJ",
        "outputId": "33a1b0a7-f85e-4bca-9de9-d56b853eeeb9"
      },
      "execution_count": null,
      "outputs": [
        {
          "output_type": "stream",
          "name": "stdout",
          "text": [
            "+-----+-----+\n",
            "| hair|  eye|\n",
            "+-----+-----+\n",
            "|black| blue|\n",
            "| grey|black|\n",
            "+-----+-----+\n",
            "\n"
          ]
        }
      ]
    },
    {
      "cell_type": "markdown",
      "source": [
        "### **2. PySpark Column Operators**"
      ],
      "metadata": {
        "id": "lV5SCp9_dr3E"
      }
    },
    {
      "cell_type": "code",
      "source": [
        "data=[(100,2,1),(200,3,4),(300,4,4)]\n",
        "df=spark.createDataFrame(data).toDF(\"col1\",\"col2\",\"col3\")"
      ],
      "metadata": {
        "id": "3rHZlWYOTl5H"
      },
      "execution_count": null,
      "outputs": []
    },
    {
      "cell_type": "code",
      "source": [
        "df.show(truncate=False)"
      ],
      "metadata": {
        "colab": {
          "base_uri": "https://localhost:8080/"
        },
        "id": "TBWxB1asdwjP",
        "outputId": "a2922591-0d01-48c4-e619-940d156c3fc8"
      },
      "execution_count": null,
      "outputs": [
        {
          "output_type": "stream",
          "name": "stdout",
          "text": [
            "+----+----+----+\n",
            "|col1|col2|col3|\n",
            "+----+----+----+\n",
            "|100 |2   |1   |\n",
            "|200 |3   |4   |\n",
            "|300 |4   |4   |\n",
            "+----+----+----+\n",
            "\n"
          ]
        }
      ]
    },
    {
      "cell_type": "code",
      "source": [
        "#Arthmetic operations\n",
        "df.select(df.col1 + df.col2).show()"
      ],
      "metadata": {
        "colab": {
          "base_uri": "https://localhost:8080/"
        },
        "id": "cGGA7gqed2nI",
        "outputId": "0093f7ad-a6fa-4bea-cd83-ce721d2d774f"
      },
      "execution_count": null,
      "outputs": [
        {
          "output_type": "stream",
          "name": "stdout",
          "text": [
            "+-------------+\n",
            "|(col1 + col2)|\n",
            "+-------------+\n",
            "|          102|\n",
            "|          203|\n",
            "|          304|\n",
            "+-------------+\n",
            "\n"
          ]
        }
      ]
    },
    {
      "cell_type": "code",
      "source": [
        "df.select(df.col1 - df.col2).show()\n",
        "df.select(df.col1 * df.col2).show()\n",
        "df.select(df.col1 / df.col2).show()\n",
        "df.select(df.col1 % df.col2).show()"
      ],
      "metadata": {
        "colab": {
          "base_uri": "https://localhost:8080/"
        },
        "id": "HZbhG3O9fCur",
        "outputId": "a3a13143-cc7d-499b-9a73-048ac86c6dda"
      },
      "execution_count": null,
      "outputs": [
        {
          "output_type": "stream",
          "name": "stdout",
          "text": [
            "+-------------+\n",
            "|(col1 - col2)|\n",
            "+-------------+\n",
            "|           98|\n",
            "|          197|\n",
            "|          296|\n",
            "+-------------+\n",
            "\n",
            "+-------------+\n",
            "|(col1 * col2)|\n",
            "+-------------+\n",
            "|          200|\n",
            "|          600|\n",
            "|         1200|\n",
            "+-------------+\n",
            "\n",
            "+-----------------+\n",
            "|    (col1 / col2)|\n",
            "+-----------------+\n",
            "|             50.0|\n",
            "|66.66666666666667|\n",
            "|             75.0|\n",
            "+-----------------+\n",
            "\n",
            "+-------------+\n",
            "|(col1 % col2)|\n",
            "+-------------+\n",
            "|            0|\n",
            "|            2|\n",
            "|            0|\n",
            "+-------------+\n",
            "\n"
          ]
        }
      ]
    },
    {
      "cell_type": "code",
      "source": [
        "df.select(df.col2 > df.col3).show()\n",
        "df.select(df.col2 < df.col3).show()\n",
        "df.select(df.col2 == df.col3).show()"
      ],
      "metadata": {
        "colab": {
          "base_uri": "https://localhost:8080/"
        },
        "id": "pjL6sJTdfGa5",
        "outputId": "cf470c10-611e-45de-c032-fc9b64d29eb0"
      },
      "execution_count": null,
      "outputs": [
        {
          "output_type": "stream",
          "name": "stdout",
          "text": [
            "+-------------+\n",
            "|(col2 > col3)|\n",
            "+-------------+\n",
            "|         true|\n",
            "|        false|\n",
            "|        false|\n",
            "+-------------+\n",
            "\n",
            "+-------------+\n",
            "|(col2 < col3)|\n",
            "+-------------+\n",
            "|        false|\n",
            "|         true|\n",
            "|        false|\n",
            "+-------------+\n",
            "\n",
            "+-------------+\n",
            "|(col2 = col3)|\n",
            "+-------------+\n",
            "|        false|\n",
            "|        false|\n",
            "|         true|\n",
            "+-------------+\n",
            "\n"
          ]
        }
      ]
    },
    {
      "cell_type": "markdown",
      "source": [
        "### **3. PySpark Column Functions**"
      ],
      "metadata": {
        "id": "G0muQLQhfPJ_"
      }
    },
    {
      "cell_type": "markdown",
      "source": [
        "![Screenshot 2023-01-19 160137.png](data:image/png;base64,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)"
      ],
      "metadata": {
        "id": "4frmkBbJliez"
      }
    },
    {
      "cell_type": "markdown",
      "source": [
        "### **4. PySpark Column Functions Examples**"
      ],
      "metadata": {
        "id": "tXSyYAfynoUE"
      }
    },
    {
      "cell_type": "code",
      "source": [
        "data=[(\"James\",\"Bond\",\"100\",None),\n",
        "      (\"Ann\",\"Varsa\",\"200\",'F'),\n",
        "      (\"Tom Cruise\",\"XXX\",\"400\",''),\n",
        "      (\"Tom Brand\",None,\"400\",'M')]\n",
        "columns=[\"fname\",\"lname\",\"id\",\"gender\"]\n",
        "df=spark.createDataFrame(data,columns)"
      ],
      "metadata": {
        "id": "WkCR3MjSfLHO"
      },
      "execution_count": null,
      "outputs": []
    },
    {
      "cell_type": "code",
      "source": [
        "df.show(truncate=False)"
      ],
      "metadata": {
        "colab": {
          "base_uri": "https://localhost:8080/"
        },
        "id": "dURhzcCznr16",
        "outputId": "48cf3752-409e-48c7-ab02-562e9b3e3c3b"
      },
      "execution_count": null,
      "outputs": [
        {
          "output_type": "stream",
          "name": "stdout",
          "text": [
            "+----------+-----+---+------+\n",
            "|fname     |lname|id |gender|\n",
            "+----------+-----+---+------+\n",
            "|James     |Bond |100|null  |\n",
            "|Ann       |Varsa|200|F     |\n",
            "|Tom Cruise|XXX  |400|      |\n",
            "|Tom Brand |null |400|M     |\n",
            "+----------+-----+---+------+\n",
            "\n"
          ]
        }
      ]
    },
    {
      "cell_type": "markdown",
      "source": [
        "### 4.1 alias() – Set’s name to Column"
      ],
      "metadata": {
        "id": "2vvkqM_dn13W"
      }
    },
    {
      "cell_type": "code",
      "source": [
        "from pyspark.sql.functions import expr"
      ],
      "metadata": {
        "id": "KIZIiDTanu4E"
      },
      "execution_count": null,
      "outputs": []
    },
    {
      "cell_type": "code",
      "source": [
        "df.select(df.fname.alias(\"first_name\"), \\\n",
        "          df.lname.alias(\"last_name\")\n",
        "   ).show()\n"
      ],
      "metadata": {
        "colab": {
          "base_uri": "https://localhost:8080/"
        },
        "id": "JHau71M7oE9M",
        "outputId": "51e47db8-4f1c-40cd-ee7f-ade4f4a668b6"
      },
      "execution_count": null,
      "outputs": [
        {
          "output_type": "stream",
          "name": "stdout",
          "text": [
            "+----------+---------+\n",
            "|first_name|last_name|\n",
            "+----------+---------+\n",
            "|     James|     Bond|\n",
            "|       Ann|    Varsa|\n",
            "|Tom Cruise|      XXX|\n",
            "| Tom Brand|     null|\n",
            "+----------+---------+\n",
            "\n"
          ]
        }
      ]
    },
    {
      "cell_type": "code",
      "source": [
        "#Another example\n",
        "df.select(expr(\" fname ||','|| lname\").alias(\"fullName\") \\\n",
        "   ).show()"
      ],
      "metadata": {
        "colab": {
          "base_uri": "https://localhost:8080/"
        },
        "id": "FQPOtXgXoJo4",
        "outputId": "7fac1fa2-16c9-4113-b8eb-c37e66e91312"
      },
      "execution_count": null,
      "outputs": [
        {
          "output_type": "stream",
          "name": "stdout",
          "text": [
            "+--------------+\n",
            "|      fullName|\n",
            "+--------------+\n",
            "|    James,Bond|\n",
            "|     Ann,Varsa|\n",
            "|Tom Cruise,XXX|\n",
            "|          null|\n",
            "+--------------+\n",
            "\n"
          ]
        }
      ]
    },
    {
      "cell_type": "markdown",
      "source": [
        "##### 4.2 asc() & desc() – Sort the DataFrame columns by Ascending or Descending order."
      ],
      "metadata": {
        "id": "4MWSxBp8of-L"
      }
    },
    {
      "cell_type": "code",
      "source": [
        "#asc, desc to sort ascending and descending order repsectively.\n",
        "df.sort(df.fname.asc()).show()"
      ],
      "metadata": {
        "colab": {
          "base_uri": "https://localhost:8080/"
        },
        "id": "i1B1dmAtoOzn",
        "outputId": "d03c4ee9-b023-4367-e74a-e7c86acc2af0"
      },
      "execution_count": null,
      "outputs": [
        {
          "output_type": "stream",
          "name": "stdout",
          "text": [
            "+----------+-----+---+------+\n",
            "|     fname|lname| id|gender|\n",
            "+----------+-----+---+------+\n",
            "|       Ann|Varsa|200|     F|\n",
            "|     James| Bond|100|  null|\n",
            "| Tom Brand| null|400|     M|\n",
            "|Tom Cruise|  XXX|400|      |\n",
            "+----------+-----+---+------+\n",
            "\n"
          ]
        }
      ]
    },
    {
      "cell_type": "code",
      "source": [
        "df.sort(df.fname.desc()).show()"
      ],
      "metadata": {
        "colab": {
          "base_uri": "https://localhost:8080/"
        },
        "id": "guwBEOKPpCDB",
        "outputId": "4a2762a3-bc38-4974-b584-cdccc0cb3670"
      },
      "execution_count": null,
      "outputs": [
        {
          "output_type": "stream",
          "name": "stdout",
          "text": [
            "+----------+-----+---+------+\n",
            "|     fname|lname| id|gender|\n",
            "+----------+-----+---+------+\n",
            "|Tom Cruise|  XXX|400|      |\n",
            "| Tom Brand| null|400|     M|\n",
            "|     James| Bond|100|  null|\n",
            "|       Ann|Varsa|200|     F|\n",
            "+----------+-----+---+------+\n",
            "\n"
          ]
        }
      ]
    },
    {
      "cell_type": "markdown",
      "source": [
        "##### 4.3 cast() & astype() – Used to convert the data Type."
      ],
      "metadata": {
        "id": "kxZM1ZzPpJ3C"
      }
    },
    {
      "cell_type": "code",
      "source": [
        "#cast\n",
        "df.select(df.fname,df.id.cast(\"int\")).printSchema()"
      ],
      "metadata": {
        "colab": {
          "base_uri": "https://localhost:8080/"
        },
        "id": "xvrXveH-pGd7",
        "outputId": "d088c0c3-7549-4d90-f973-7ebd8d5e4d62"
      },
      "execution_count": null,
      "outputs": [
        {
          "output_type": "stream",
          "name": "stdout",
          "text": [
            "root\n",
            " |-- fname: string (nullable = true)\n",
            " |-- id: integer (nullable = true)\n",
            "\n"
          ]
        }
      ]
    },
    {
      "cell_type": "markdown",
      "source": [
        "##### 4.4 between() – Returns a Boolean expression when a column values in between lower and upper bound."
      ],
      "metadata": {
        "id": "frmo4dUZpUcS"
      }
    },
    {
      "cell_type": "code",
      "source": [
        "#between\n",
        "df.filter(df.id.between(100,300)).show()"
      ],
      "metadata": {
        "colab": {
          "base_uri": "https://localhost:8080/"
        },
        "id": "NywzBnXtpQhu",
        "outputId": "4dd545f7-f823-4a69-dc9f-794d7e27d7c8"
      },
      "execution_count": null,
      "outputs": [
        {
          "output_type": "stream",
          "name": "stdout",
          "text": [
            "+-----+-----+---+------+\n",
            "|fname|lname| id|gender|\n",
            "+-----+-----+---+------+\n",
            "|James| Bond|100|  null|\n",
            "|  Ann|Varsa|200|     F|\n",
            "+-----+-----+---+------+\n",
            "\n"
          ]
        }
      ]
    },
    {
      "cell_type": "markdown",
      "source": [
        "##### 4.5 contains() – Checks if a DataFrame column value contains a a value specified in this function."
      ],
      "metadata": {
        "id": "VLj1x0rbph7y"
      }
    },
    {
      "cell_type": "code",
      "source": [
        "\n",
        "#contains\n",
        "df.filter(df.fname.contains(\"Cruise\")).show()\n"
      ],
      "metadata": {
        "colab": {
          "base_uri": "https://localhost:8080/"
        },
        "id": "Yx9B2ym1pcP1",
        "outputId": "ada23ab9-1268-4c6f-8f9d-6001020d5662"
      },
      "execution_count": null,
      "outputs": [
        {
          "output_type": "stream",
          "name": "stdout",
          "text": [
            "+----------+-----+---+------+\n",
            "|     fname|lname| id|gender|\n",
            "+----------+-----+---+------+\n",
            "|Tom Cruise|  XXX|400|      |\n",
            "+----------+-----+---+------+\n",
            "\n"
          ]
        }
      ]
    },
    {
      "cell_type": "markdown",
      "source": [
        "##### 4.6 startswith() & endswith() – Checks if the value of the DataFrame Column starts and ends with a String respectively"
      ],
      "metadata": {
        "id": "VS6god7luQKw"
      }
    },
    {
      "cell_type": "code",
      "source": [
        "#startswith, endswith()\n",
        "df.filter(df.fname.startswith(\"T\")).show()\n"
      ],
      "metadata": {
        "colab": {
          "base_uri": "https://localhost:8080/"
        },
        "id": "c2HLNjkguKS3",
        "outputId": "978ff6d6-5842-4b14-b76b-1536afbf194c"
      },
      "execution_count": null,
      "outputs": [
        {
          "output_type": "stream",
          "name": "stdout",
          "text": [
            "+----------+-----+---+------+\n",
            "|     fname|lname| id|gender|\n",
            "+----------+-----+---+------+\n",
            "|Tom Cruise|  XXX|400|      |\n",
            "| Tom Brand| null|400|     M|\n",
            "+----------+-----+---+------+\n",
            "\n"
          ]
        }
      ]
    },
    {
      "cell_type": "code",
      "source": [
        "df.filter(df.fname.endswith(\"Cruise\")).show()"
      ],
      "metadata": {
        "colab": {
          "base_uri": "https://localhost:8080/"
        },
        "id": "cXzRbWVCuWZe",
        "outputId": "b9411b22-91d0-4f89-95db-2cc2dadf5447"
      },
      "execution_count": null,
      "outputs": [
        {
          "output_type": "stream",
          "name": "stdout",
          "text": [
            "+----------+-----+---+------+\n",
            "|     fname|lname| id|gender|\n",
            "+----------+-----+---+------+\n",
            "|Tom Cruise|  XXX|400|      |\n",
            "+----------+-----+---+------+\n",
            "\n"
          ]
        }
      ]
    },
    {
      "cell_type": "markdown",
      "source": [
        "##### 4.7 eqNullSafe()"
      ],
      "metadata": {
        "id": "eI-gjUrNuaxJ"
      }
    },
    {
      "cell_type": "markdown",
      "source": [
        "##### 4.8 isNull & isNotNull() – Checks if the DataFrame column has NULL or non NULL values."
      ],
      "metadata": {
        "id": "6d2hCA5Suh0j"
      }
    },
    {
      "cell_type": "code",
      "source": [
        "  #isNull & isNotNull\n",
        "df.filter(df.lname.isNull()).show()"
      ],
      "metadata": {
        "colab": {
          "base_uri": "https://localhost:8080/"
        },
        "id": "t5Gawq3LuXa9",
        "outputId": "f72091f3-42d1-4c41-bc51-b8468dd944d9"
      },
      "execution_count": null,
      "outputs": [
        {
          "output_type": "stream",
          "name": "stdout",
          "text": [
            "+---------+-----+---+------+\n",
            "|    fname|lname| id|gender|\n",
            "+---------+-----+---+------+\n",
            "|Tom Brand| null|400|     M|\n",
            "+---------+-----+---+------+\n",
            "\n"
          ]
        }
      ]
    },
    {
      "cell_type": "code",
      "source": [
        "df.filter(df.lname.isNotNull()).show()"
      ],
      "metadata": {
        "colab": {
          "base_uri": "https://localhost:8080/"
        },
        "id": "U1sl65fJumA3",
        "outputId": "2410f54e-f82f-4eda-93d5-2534dca2614c"
      },
      "execution_count": null,
      "outputs": [
        {
          "output_type": "stream",
          "name": "stdout",
          "text": [
            "+----------+-----+---+------+\n",
            "|     fname|lname| id|gender|\n",
            "+----------+-----+---+------+\n",
            "|     James| Bond|100|  null|\n",
            "|       Ann|Varsa|200|     F|\n",
            "|Tom Cruise|  XXX|400|      |\n",
            "+----------+-----+---+------+\n",
            "\n"
          ]
        }
      ]
    },
    {
      "cell_type": "markdown",
      "source": [
        "##### 4.9 like() & rlike() – Similar to SQL LIKE expression"
      ],
      "metadata": {
        "id": "Gu47ATfmutzs"
      }
    },
    {
      "cell_type": "code",
      "source": [
        "#like , rlike\n",
        "df.select(df.fname,df.lname,df.id).filter(df.fname.like(\"%nd\")).show()"
      ],
      "metadata": {
        "colab": {
          "base_uri": "https://localhost:8080/"
        },
        "id": "wjhwCJlSuon9",
        "outputId": "b03016a2-309f-4916-a34f-c6437e30153a"
      },
      "execution_count": null,
      "outputs": [
        {
          "output_type": "stream",
          "name": "stdout",
          "text": [
            "+---------+-----+---+\n",
            "|    fname|lname| id|\n",
            "+---------+-----+---+\n",
            "|Tom Brand| null|400|\n",
            "+---------+-----+---+\n",
            "\n"
          ]
        }
      ]
    },
    {
      "cell_type": "markdown",
      "source": [
        "##### 4.10 substr() – Returns a Column after getting sub string from the Column"
      ],
      "metadata": {
        "id": "ExaeH4h_vTlD"
      }
    },
    {
      "cell_type": "code",
      "source": [
        "\n",
        "df.select(df.fname.substr(1,2).alias(\"substr\")).show()"
      ],
      "metadata": {
        "colab": {
          "base_uri": "https://localhost:8080/"
        },
        "id": "5zhfsiR8u2RJ",
        "outputId": "a097b231-3d19-4015-bf4e-6622fa1cfc94"
      },
      "execution_count": null,
      "outputs": [
        {
          "output_type": "stream",
          "name": "stdout",
          "text": [
            "+------+\n",
            "|substr|\n",
            "+------+\n",
            "|    Ja|\n",
            "|    An|\n",
            "|    To|\n",
            "|    To|\n",
            "+------+\n",
            "\n"
          ]
        }
      ]
    },
    {
      "cell_type": "markdown",
      "source": [
        "4.11 when() & otherwise() – It is similar to SQL Case When, executes sequence of expressions until it matches the condition and returns a value when match."
      ],
      "metadata": {
        "id": "dOa3xcl9vgPm"
      }
    },
    {
      "cell_type": "code",
      "source": [
        "#when & otherwise\n",
        "from pyspark.sql.functions import when"
      ],
      "metadata": {
        "id": "bdzpDA3QvYL8"
      },
      "execution_count": null,
      "outputs": []
    },
    {
      "cell_type": "code",
      "source": [
        "df.select(df.fname,df.lname,when(df.gender==\"M\",\"Male\") \\\n",
        "              .when(df.gender==\"F\",\"Female\") \\\n",
        "              .when(df.gender==None ,\"\") \\\n",
        "              .otherwise(df.gender).alias(\"new_gender\") \\\n",
        "    ).show()"
      ],
      "metadata": {
        "colab": {
          "base_uri": "https://localhost:8080/"
        },
        "id": "CbBaS9tivkPP",
        "outputId": "2ed44d7a-9a4f-4d15-c312-401c27a28ab3"
      },
      "execution_count": null,
      "outputs": [
        {
          "output_type": "stream",
          "name": "stdout",
          "text": [
            "+----------+-----+----------+\n",
            "|     fname|lname|new_gender|\n",
            "+----------+-----+----------+\n",
            "|     James| Bond|      null|\n",
            "|       Ann|Varsa|    Female|\n",
            "|Tom Cruise|  XXX|          |\n",
            "| Tom Brand| null|      Male|\n",
            "+----------+-----+----------+\n",
            "\n"
          ]
        }
      ]
    },
    {
      "cell_type": "markdown",
      "source": [
        "4.12 isin() – Check if value presents in a List."
      ],
      "metadata": {
        "id": "WFdWezCLv0GY"
      }
    },
    {
      "cell_type": "code",
      "source": [
        "#isin\n",
        "li=[\"100\",\"200\"]\n",
        "df.select(df.fname,df.lname,df.id) \\\n",
        "  .filter(df.id.isin(li)) \\\n",
        "  .show()"
      ],
      "metadata": {
        "colab": {
          "base_uri": "https://localhost:8080/"
        },
        "id": "Qt6ibk__vthJ",
        "outputId": "11c75382-265b-4179-dd61-62e05fc0fca1"
      },
      "execution_count": null,
      "outputs": [
        {
          "output_type": "stream",
          "name": "stdout",
          "text": [
            "+-----+-----+---+\n",
            "|fname|lname| id|\n",
            "+-----+-----+---+\n",
            "|James| Bond|100|\n",
            "|  Ann|Varsa|200|\n",
            "+-----+-----+---+\n",
            "\n"
          ]
        }
      ]
    },
    {
      "cell_type": "markdown",
      "source": [
        "4.13 getField() – To get the value by key from MapType column and by stuct child name from StructType column"
      ],
      "metadata": {
        "id": "RJUgRenqx_mS"
      }
    },
    {
      "cell_type": "code",
      "source": [
        "#Create DataFrame with struct, array & map\n",
        "from pyspark.sql.types import StructType,StructField,StringType,ArrayType,MapType\n",
        "data=[((\"James\",\"Bond\"),[\"Java\",\"C#\"],{'hair':'black','eye':'brown'}),\n",
        "      ((\"Ann\",\"Varsa\"),[\".NET\",\"Python\"],{'hair':'brown','eye':'black'}),\n",
        "      ((\"Tom Cruise\",\"\"),[\"Python\",\"Scala\"],{'hair':'red','eye':'grey'}),\n",
        "      ((\"Tom Brand\",None),[\"Perl\",\"Ruby\"],{'hair':'black','eye':'blue'})]\n",
        "\n",
        "schema = StructType([\n",
        "        StructField('name', StructType([\n",
        "            StructField('fname', StringType(), True),\n",
        "            StructField('lname', StringType(), True)])),\n",
        "        StructField('languages', ArrayType(StringType()),True),\n",
        "        StructField('properties', MapType(StringType(),StringType()),True)\n",
        "     ])\n",
        "df=spark.createDataFrame(data,schema)\n",
        "df.printSchema()"
      ],
      "metadata": {
        "colab": {
          "base_uri": "https://localhost:8080/"
        },
        "id": "E_hoQ3Vrx7f6",
        "outputId": "b66dc49e-aa0b-458f-a911-1ed369f7e951"
      },
      "execution_count": null,
      "outputs": [
        {
          "output_type": "stream",
          "name": "stdout",
          "text": [
            "root\n",
            " |-- name: struct (nullable = true)\n",
            " |    |-- fname: string (nullable = true)\n",
            " |    |-- lname: string (nullable = true)\n",
            " |-- languages: array (nullable = true)\n",
            " |    |-- element: string (containsNull = true)\n",
            " |-- properties: map (nullable = true)\n",
            " |    |-- key: string\n",
            " |    |-- value: string (valueContainsNull = true)\n",
            "\n"
          ]
        }
      ]
    },
    {
      "cell_type": "code",
      "source": [
        "#getField from MapType\n",
        "df.select(df.properties.getField(\"hair\")).show()"
      ],
      "metadata": {
        "colab": {
          "base_uri": "https://localhost:8080/"
        },
        "id": "GShsadB5yDug",
        "outputId": "2f904ce7-c3a3-48fb-aaeb-6ae653cf8691"
      },
      "execution_count": null,
      "outputs": [
        {
          "output_type": "stream",
          "name": "stdout",
          "text": [
            "+----------------+\n",
            "|properties[hair]|\n",
            "+----------------+\n",
            "|           black|\n",
            "|           brown|\n",
            "|             red|\n",
            "|           black|\n",
            "+----------------+\n",
            "\n"
          ]
        }
      ]
    },
    {
      "cell_type": "code",
      "source": [
        "#getField from Struct\n",
        "df.select(df.name.getField(\"fname\")).show()"
      ],
      "metadata": {
        "colab": {
          "base_uri": "https://localhost:8080/"
        },
        "id": "67i_MzVi0W0Q",
        "outputId": "35aa683c-ec31-4698-d483-8642b4d51e68"
      },
      "execution_count": null,
      "outputs": [
        {
          "output_type": "stream",
          "name": "stdout",
          "text": [
            "+----------+\n",
            "|name.fname|\n",
            "+----------+\n",
            "|     James|\n",
            "|       Ann|\n",
            "|Tom Cruise|\n",
            "| Tom Brand|\n",
            "+----------+\n",
            "\n"
          ]
        }
      ]
    },
    {
      "cell_type": "markdown",
      "source": [
        "4.14 getItem() – To get the value by index from MapType or ArrayTupe & ny key for MapType column."
      ],
      "metadata": {
        "id": "z1jN63H50nhl"
      }
    },
    {
      "cell_type": "code",
      "source": [
        "#getItem() used with ArrayType\n",
        "df.select(df.languages.getItem(1)).show()"
      ],
      "metadata": {
        "colab": {
          "base_uri": "https://localhost:8080/"
        },
        "id": "u_3dULM10esS",
        "outputId": "647fe423-46d8-40f5-a6ca-db58c373be4d"
      },
      "execution_count": null,
      "outputs": [
        {
          "output_type": "stream",
          "name": "stdout",
          "text": [
            "+------------+\n",
            "|languages[1]|\n",
            "+------------+\n",
            "|          C#|\n",
            "|      Python|\n",
            "|       Scala|\n",
            "|        Ruby|\n",
            "+------------+\n",
            "\n"
          ]
        }
      ]
    },
    {
      "cell_type": "markdown",
      "source": [
        "4.15 dropFields"
      ],
      "metadata": {
        "id": "p6a5TSbU03Ja"
      }
    },
    {
      "cell_type": "markdown",
      "source": [
        "4.16 withField()"
      ],
      "metadata": {
        "id": "qwJRQwCv04f2"
      }
    },
    {
      "cell_type": "markdown",
      "source": [
        "4.17 over() – Used with Window Functions\n"
      ],
      "metadata": {
        "id": "fjjx9dUD09mx"
      }
    },
    {
      "cell_type": "code",
      "source": [],
      "metadata": {
        "id": "IuhCoEN50yFD"
      },
      "execution_count": null,
      "outputs": []
    }
  ]
}